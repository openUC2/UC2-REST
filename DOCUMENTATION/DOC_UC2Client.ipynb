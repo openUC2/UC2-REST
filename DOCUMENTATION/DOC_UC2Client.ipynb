{
 "cells": [
  {
   "cell_type": "markdown",
   "id": "7b18ec0a",
   "metadata": {},
   "source": [
    "<a href=\"https://colab.research.google.com/github/openUC2/UC2-REST/blob/master/DOCUMENTATION/DOC_UC2Client.ipynb\" target=\"_parent\"><img src=\"https://colab.research.google.com/assets/colab-badge.svg\" alt=\"Open in Colab\"/></a>"
   ]
  },
  {
   "cell_type": "markdown",
   "id": "0456a946",
   "metadata": {},
   "source": [
    "# UC2 REST Tutorial\n",
    "\n",
    "Here we are going to teach you how to interact with the UC2 microcontroller and how you can add additional functionalities. \n",
    "\n",
    "In order to use the client in your python environment you need the following packages to be installed:\n",
    "\n",
    "(use the `!` to install it from within this jupyter notebook)\n",
    "```py\n",
    "!pip install UC2-REST\n",
    "```\n",
    "\n",
    "This code has been tested with the ESP32 WEMOS D1 R32 + CNC shield v3, where 3 stepper are connected to the board and an LED Matrix (WS2812, adafruit) is connected to the FEED pin. \n",
    "\n",
    "If you find an error, please report it [here](https://github.com/openUC2/UC2-REST/issues/new) \n",
    "\n",
    "## Use in your local Jupyter notebook \n",
    "\n",
    "### Step 1: Install Jupyter \n",
    "\n",
    "Install [Jupyter](http://jupyter.org/install) on your local machine.\n",
    "\n",
    "### Step 2: Download/Clone this repository\n",
    "\n",
    "E.g. `git clone https://github.com/openUC2/UC2-REST/`\n",
    "\n",
    "### Step 3: Open this notebook in Jupyter \n",
    "\n",
    "open a terminal and change into this folder e.g.:\n",
    "\n",
    "```\n",
    "cd YOURDOWNLOADPATH/UC2-REST/DOCUMENTATION/\n",
    "jupyter notebook \n",
    "```\n",
    "\n",
    "Open the notebook from the jupyter fileexplorer. \n",
    "\n",
    "## Use this in Google COLAB \n",
    "\n",
    "You can use the UC2-Board without extra-complicated installation routines. For this, you need to link your Jupyter Notebook to the Colab plugin. From the official documentation ([here](https://research.google.com/colaboratory/local-runtimes.html)), please follow these steps: \n",
    "\n",
    "In order to allow Colaboratory to connect to your locally running Jupyter server, you'll need to perform the following steps.\n",
    "\n",
    "### Step 1: Install Jupyter\n",
    "Install [Jupyter](http://jupyter.org/install) on your local machine.\n",
    "\n",
    "### Step 2: Install and enable the jupyter_http_over_ws jupyter extension (one-time)\n",
    "The jupyter_http_over_ws extension is authored by the Colaboratory team and available on GitHub.\n",
    "\n",
    "```\n",
    "pip install jupyter_http_over_ws\n",
    "jupyter serverextension enable --py jupyter_http_over_ws\n",
    "```\n",
    "\n",
    "### Step 3: Start server and authenticate\n",
    "\n",
    "New notebook servers are started normally, though you will need to set a flag to explicitly trust WebSocket connections from the Colaboratory frontend.\n",
    "\n",
    "```\n",
    "jupyter notebook \\\n",
    "  --NotebookApp.allow_origin='https://colab.research.google.com' \\\n",
    "  --port=8888 \\\n",
    "  --NotebookApp.port_retries=0\n",
    "```\n",
    "\n",
    "Once the server has started, it will print a message with the initial backend URL used for authentication. Make a copy of this URL as you'll need to provide this in the next step.\n",
    "\n",
    "### Step 4: Connect to the local runtime\n",
    "\n",
    "In Colaboratory, click the \"Connect\" button and select \"Connect to local runtime...\". Enter the URL from the previous step in the dialog that appears and click the \"Connect\" button. After this, you should now be connected to your local runtime.\n",
    "\n"
   ]
  },
  {
   "cell_type": "code",
   "execution_count": null,
   "id": "37e5e2f1",
   "metadata": {},
   "outputs": [],
   "source": [
    "# Install the latest library\n",
    "!pip install UC2-REST# only if you have not installed it already"
   ]
  },
  {
   "cell_type": "markdown",
   "id": "623bc1e4",
   "metadata": {},
   "source": [
    "## Organize all imports\n",
    "\n",
    "First of all we need to import the `ESP32Client`. Since it is not yet a standalone pip package, we have to do that via a relaitve import, meaning that the file is in the same folder as this Jupyter Notebook"
   ]
  },
  {
   "cell_type": "code",
   "execution_count": 1,
   "id": "c5e2f6da",
   "metadata": {},
   "outputs": [],
   "source": [
    "%load_ext autoreload \n",
    "%autoreload 2\n",
    "\n",
    "\n",
    "import uc2rest\n",
    "import time\n",
    "import numpy as np"
   ]
  },
  {
   "cell_type": "markdown",
   "id": "c721ba12",
   "metadata": {},
   "source": [
    "# Flashing the Firmware\n",
    "\n",
    "You have three options to get the latest firmware:\n",
    "\n",
    "1. Use the Web-based update tool which you can find here: https://youseetoo.github.io/\n",
    "2. Use the Python firmware update tool that is also hosted in this repository; Drawback: It seems to not work consistently accross different Windows versions. \n",
    "3. Download/Clone this repo and compile it yourself to finally upload it to your MCU"
   ]
  },
  {
   "cell_type": "markdown",
   "id": "8db1ee0c",
   "metadata": {},
   "source": [
    "# Connecting to the ESP32 via USB\n",
    "\n",
    "Now we want to initiliaze the USB-serial connection. Therefore, connect the ESP32 to your computer using a data (!) USB cable and establish the connection. You can leave the port as \"unknown\" as the portfinder may identify the ESP.\n",
    "\n",
    "**Important:** Close all applications that may be connected to the ESP (e.g. Arduino Serial Plotter)\n",
    "\n",
    "**IMPORTANT:** Install the USB serial driver for the ESP32: https://learn.sparkfun.com/tutorials/how-to-install-ch340-drivers/all"
   ]
  },
  {
   "cell_type": "code",
   "execution_count": 3,
   "id": "caadeb4f",
   "metadata": {},
   "outputs": [
    {
     "ename": "KeyboardInterrupt",
     "evalue": "",
     "output_type": "error",
     "traceback": [
      "\u001b[0;31m---------------------------------------------------------------------------\u001b[0m",
      "\u001b[0;31mKeyboardInterrupt\u001b[0m                         Traceback (most recent call last)",
      "Cell \u001b[0;32mIn[3], line 1\u001b[0m\n\u001b[0;32m----> 1\u001b[0m ESP32 \u001b[38;5;241m=\u001b[39m \u001b[43muc2rest\u001b[49m\u001b[38;5;241m.\u001b[39mUC2Client(serialport\u001b[38;5;241m=\u001b[39m\u001b[38;5;124m\"\u001b[39m\u001b[38;5;124munknown\u001b[39m\u001b[38;5;124m\"\u001b[39m, baudrate\u001b[38;5;241m=\u001b[39m\u001b[38;5;241m500000\u001b[39m)\n\u001b[1;32m      3\u001b[0m \u001b[38;5;66;03m# setting debug output of the serial to true - all message will be printed\u001b[39;00m\n\u001b[1;32m      4\u001b[0m ESP32\u001b[38;5;241m.\u001b[39mserial\u001b[38;5;241m.\u001b[39mDEBUG\u001b[38;5;241m=\u001b[39m\u001b[38;5;28;01mFalse\u001b[39;00m\n",
      "Cell \u001b[0;32mIn[3], line 1\u001b[0m\n\u001b[0;32m----> 1\u001b[0m ESP32 \u001b[38;5;241m=\u001b[39m \u001b[43muc2rest\u001b[49m\u001b[38;5;241m.\u001b[39mUC2Client(serialport\u001b[38;5;241m=\u001b[39m\u001b[38;5;124m\"\u001b[39m\u001b[38;5;124munknown\u001b[39m\u001b[38;5;124m\"\u001b[39m, baudrate\u001b[38;5;241m=\u001b[39m\u001b[38;5;241m500000\u001b[39m)\n\u001b[1;32m      3\u001b[0m \u001b[38;5;66;03m# setting debug output of the serial to true - all message will be printed\u001b[39;00m\n\u001b[1;32m      4\u001b[0m ESP32\u001b[38;5;241m.\u001b[39mserial\u001b[38;5;241m.\u001b[39mDEBUG\u001b[38;5;241m=\u001b[39m\u001b[38;5;28;01mFalse\u001b[39;00m\n",
      "File \u001b[0;32m_pydevd_bundle/pydevd_cython.pyx:1457\u001b[0m, in \u001b[0;36m_pydevd_bundle.pydevd_cython.SafeCallWrapper.__call__\u001b[0;34m()\u001b[0m\n",
      "File \u001b[0;32m_pydevd_bundle/pydevd_cython.pyx:701\u001b[0m, in \u001b[0;36m_pydevd_bundle.pydevd_cython.PyDBFrame.trace_dispatch\u001b[0;34m()\u001b[0m\n",
      "File \u001b[0;32m_pydevd_bundle/pydevd_cython.pyx:1152\u001b[0m, in \u001b[0;36m_pydevd_bundle.pydevd_cython.PyDBFrame.trace_dispatch\u001b[0;34m()\u001b[0m\n",
      "File \u001b[0;32m_pydevd_bundle/pydevd_cython.pyx:1135\u001b[0m, in \u001b[0;36m_pydevd_bundle.pydevd_cython.PyDBFrame.trace_dispatch\u001b[0;34m()\u001b[0m\n",
      "File \u001b[0;32m_pydevd_bundle/pydevd_cython.pyx:312\u001b[0m, in \u001b[0;36m_pydevd_bundle.pydevd_cython.PyDBFrame.do_wait_suspend\u001b[0;34m()\u001b[0m\n",
      "File \u001b[0;32m~/opt/anaconda3/envs/imswitch/lib/python3.9/site-packages/debugpy/_vendored/pydevd/pydevd.py:2070\u001b[0m, in \u001b[0;36mPyDB.do_wait_suspend\u001b[0;34m(self, thread, frame, event, arg, exception_type)\u001b[0m\n\u001b[1;32m   2067\u001b[0m             from_this_thread\u001b[38;5;241m.\u001b[39mappend(frame_custom_thread_id)\n\u001b[1;32m   2069\u001b[0m     \u001b[38;5;28;01mwith\u001b[39;00m \u001b[38;5;28mself\u001b[39m\u001b[38;5;241m.\u001b[39m_threads_suspended_single_notification\u001b[38;5;241m.\u001b[39mnotify_thread_suspended(thread_id, thread, stop_reason):\n\u001b[0;32m-> 2070\u001b[0m         keep_suspended \u001b[38;5;241m=\u001b[39m \u001b[38;5;28;43mself\u001b[39;49m\u001b[38;5;241;43m.\u001b[39;49m\u001b[43m_do_wait_suspend\u001b[49m\u001b[43m(\u001b[49m\u001b[43mthread\u001b[49m\u001b[43m,\u001b[49m\u001b[43m \u001b[49m\u001b[43mframe\u001b[49m\u001b[43m,\u001b[49m\u001b[43m \u001b[49m\u001b[43mevent\u001b[49m\u001b[43m,\u001b[49m\u001b[43m \u001b[49m\u001b[43marg\u001b[49m\u001b[43m,\u001b[49m\u001b[43m \u001b[49m\u001b[43msuspend_type\u001b[49m\u001b[43m,\u001b[49m\u001b[43m \u001b[49m\u001b[43mfrom_this_thread\u001b[49m\u001b[43m,\u001b[49m\u001b[43m \u001b[49m\u001b[43mframes_tracker\u001b[49m\u001b[43m)\u001b[49m\n\u001b[1;32m   2072\u001b[0m frames_list \u001b[38;5;241m=\u001b[39m \u001b[38;5;28;01mNone\u001b[39;00m\n\u001b[1;32m   2074\u001b[0m \u001b[38;5;28;01mif\u001b[39;00m keep_suspended:\n\u001b[1;32m   2075\u001b[0m     \u001b[38;5;66;03m# This means that we should pause again after a set next statement.\u001b[39;00m\n",
      "File \u001b[0;32m~/opt/anaconda3/envs/imswitch/lib/python3.9/site-packages/debugpy/_vendored/pydevd/pydevd.py:2106\u001b[0m, in \u001b[0;36mPyDB._do_wait_suspend\u001b[0;34m(self, thread, frame, event, arg, suspend_type, from_this_thread, frames_tracker)\u001b[0m\n\u001b[1;32m   2103\u001b[0m         \u001b[38;5;28mself\u001b[39m\u001b[38;5;241m.\u001b[39m_call_input_hook()\n\u001b[1;32m   2105\u001b[0m     \u001b[38;5;28mself\u001b[39m\u001b[38;5;241m.\u001b[39mprocess_internal_commands()\n\u001b[0;32m-> 2106\u001b[0m     \u001b[43mtime\u001b[49m\u001b[38;5;241;43m.\u001b[39;49m\u001b[43msleep\u001b[49m\u001b[43m(\u001b[49m\u001b[38;5;241;43m0.01\u001b[39;49m\u001b[43m)\u001b[49m\n\u001b[1;32m   2108\u001b[0m \u001b[38;5;28mself\u001b[39m\u001b[38;5;241m.\u001b[39mcancel_async_evaluation(get_current_thread_id(thread), \u001b[38;5;28mstr\u001b[39m(\u001b[38;5;28mid\u001b[39m(frame)))\n\u001b[1;32m   2110\u001b[0m \u001b[38;5;66;03m# process any stepping instructions\u001b[39;00m\n",
      "\u001b[0;31mKeyboardInterrupt\u001b[0m: "
     ]
    }
   ],
   "source": [
    "ESP32 = uc2rest.UC2Client(serialport=\"unknown\", baudrate=500000)\n",
    "\n",
    "# setting debug output of the serial to true - all message will be printed\n",
    "ESP32.serial.DEBUG=False"
   ]
  },
  {
   "cell_type": "markdown",
   "id": "9e177d30",
   "metadata": {},
   "source": [
    "# Test the REST via Serial"
   ]
  },
  {
   "cell_type": "markdown",
   "id": "835ce39c",
   "metadata": {},
   "source": [
    "We can test the serial and check which firmware was uploaded. Most commands return a dictionary, hence you can retrieve the value by accessing the `dict`"
   ]
  },
  {
   "cell_type": "code",
   "execution_count": null,
   "id": "7a89aaa2",
   "metadata": {},
   "outputs": [],
   "source": [
    "# get motor response\n",
    "test_cmd = \"{'task': '/motor_get'}\"\n",
    "ESP32.serial.writeSerial(test_cmd)\n",
    "cmd_return = ESP32.serial.readSerial()\n",
    "print(cmd_return)\n",
    "\n",
    "# get state response\n",
    "test_cmd = \"{'task': '/state_get'}\"\n",
    "ESP32.serial.writeSerial(test_cmd)\n",
    "cmd_return = ESP32.serial.readSerial()\n",
    "print(cmd_return)\n",
    "\n",
    "print(\"The Firmware version is: \"+str(cmd_return['identifier_date']))"
   ]
  },
  {
   "cell_type": "markdown",
   "id": "290cfeca",
   "metadata": {},
   "source": [
    "# Modules \n",
    "\n",
    "Different modules can be activated/deactivated. "
   ]
  },
  {
   "cell_type": "code",
   "execution_count": null,
   "id": "a3c9baa8",
   "metadata": {},
   "outputs": [],
   "source": [
    "''' ################\n",
    "MODULES\n",
    "################'''\n",
    "mModules = ESP32.modules.get_default_modules()\n",
    "print(mModules)\n",
    "mModulesDevice = ESP32.modules.get_modules()\n",
    "print(mModulesDevice)\n",
    "ESP32.modules.set_modules(mModules)\n",
    "# wait for reboot\n",
    "time.sleep(2)\n",
    "mModulesDevice = ESP32.modules.get_modules()\n",
    "print(\"The activated modules are: \")\n",
    "print(mModulesDevice)\n"
   ]
  },
  {
   "cell_type": "markdown",
   "id": "e492c7df",
   "metadata": {},
   "source": [
    "# Moving the motor \n",
    "\n",
    "The following code snippets will help you moving the motors (XYZ) continously or at a known number of `steps` at a certain `speed` level (all measured in steps/s). \n",
    "\n",
    "The additional attributs \n",
    "- `is_blocking` states if the action is performed in the background or not; if `False` no return message will be provided\n",
    "- `is_absolute` says if we go relative or absolute steps \n",
    "- `is_enabled` says if we want to \"unpower\" the motors once we are done (prevent overheating)\n",
    "\n",
    "\n",
    "Once the microcontroller (ESP32) is flashed, the pin definitions are not set yet. We have to do that manually using a customized dictionary and write that to the MCU.\n",
    "\n",
    "**In general:**\n",
    " The axes are:\n",
    " A => 0\n",
    " X => 1\n",
    " Y => 2\n",
    " Z => 3"
   ]
  },
  {
   "cell_type": "code",
   "execution_count": null,
   "id": "4ced5633",
   "metadata": {},
   "outputs": [],
   "source": [
    "if 0: # we don't want to change the configuration now! \n",
    "    # setup all motors at once \n",
    "    print(ESP32.motor.settingsdict)\n",
    "\n",
    "    # Remember => 0 = A, 1 = X, 2 = Y, 3 = Z w.r.t. the axises of the microscope\n",
    "\n",
    "    ESP32.motor.settingsdict[\"motor\"][\"steppers\"][0][\"dir\"]=18\n",
    "    ESP32.motor.settingsdict[\"motor\"][\"steppers\"][0][\"step\"]=19\n",
    "    ESP32.motor.settingsdict[\"motor\"][\"steppers\"][0][\"enable\"]=12\n",
    "\n",
    "    ESP32.motor.settingsdict[\"motor\"][\"steppers\"][1][\"dir\"]=16\n",
    "    ESP32.motor.settingsdict[\"motor\"][\"steppers\"][1][\"step\"]=26\n",
    "    ESP32.motor.settingsdict[\"motor\"][\"steppers\"][2][\"dir\"]=27\n",
    "\n",
    "    ESP32.motor.settingsdict[\"motor\"][\"steppers\"][2][\"step\"]=25\n",
    "    ESP32.motor.settingsdict[\"motor\"][\"steppers\"][3][\"dir\"]=14\n",
    "    ESP32.motor.settingsdict[\"motor\"][\"steppers\"][3][\"step\"]=17\n",
    "\n",
    "    ESP32.motor.settingsdict[\"motor\"][\"steppers\"][1][\"enable\"]=12\n",
    "    ESP32.motor.settingsdict[\"motor\"][\"steppers\"][2][\"enable\"]=12\n",
    "    ESP32.motor.settingsdict[\"motor\"][\"steppers\"][3][\"enable\"]=12\n",
    "    ESP32.motor.set_motors(ESP32.motor.settingsdict)\n",
    "\n",
    "# check if we set the right parameters\n",
    "ESP32.motor.get_motors()\n"
   ]
  },
  {
   "cell_type": "code",
   "execution_count": null,
   "id": "d6f65b85",
   "metadata": {},
   "outputs": [],
   "source": [
    "if 0: # we don't want to change the configuration now\n",
    "    # OR setup motors individually (according to WEMOS R32 D1)\n",
    "    ESP32.motor.set_motor(stepperid = 1, position = 0, stepPin = 26, dirPin=16, enablePin=12, maxPos=None, minPos=None, acceleration=None, isEnable=1)\n",
    "    ESP32.motor.set_motor(stepperid = 2, position = 0, stepPin = 25, dirPin=27, enablePin=12, maxPos=None, minPos=None, acceleration=None, isEnable=1)\n",
    "    ESP32.motor.set_motor(stepperid = 3, position = 0, stepPin = 17, dirPin=14, enablePin=12, maxPos=None, minPos=None, acceleration=None, isEnable=1)\n",
    "    ESP32.motor.set_motor(stepperid = 0, position = 0, stepPin = 19, dirPin=18, enablePin=12, maxPos=None, minPos=None, acceleration=None, isEnable=1)\n",
    "\n",
    "# get individual motors\n",
    "print(ESP32.motor.get_motor(axis = 1))\n"
   ]
  },
  {
   "cell_type": "markdown",
   "id": "cb34e939",
   "metadata": {},
   "source": [
    "We can also setup individual motor settings like so:"
   ]
  },
  {
   "cell_type": "code",
   "execution_count": null,
   "id": "2c95f5f1",
   "metadata": {},
   "outputs": [],
   "source": [
    "ESP32.motor.set_motor_currentPosition(axis=0, currentPosition=10000)\n",
    "ESP32.motor.set_motor_acceleration(axis=0, acceleration=10000)\n",
    "ESP32.motor.set_motor_enable(is_enable=1)\n",
    "ESP32.motor.set_direction(axis=1, sign=1, timeout=1)\n",
    "ESP32.motor.set_position(axis=1, position=0, timeout=1)\n",
    "\n",
    "# wait to settle\n",
    "time.sleep(2)"
   ]
  },
  {
   "attachments": {},
   "cell_type": "markdown",
   "id": "7c7033d2",
   "metadata": {},
   "source": [
    "## Moving the rotators\n",
    "\n",
    "With the below code, we can test the motors spinning or not"
   ]
  },
  {
   "cell_type": "code",
   "execution_count": 3,
   "id": "0969505c",
   "metadata": {},
   "outputs": [
    {
     "name": "stdout",
     "output_type": "stream",
     "text": [
      "string indices must be integers\n",
      "[0 0 0 0]\n"
     ]
    }
   ],
   "source": [
    "position1 = ESP32.rotator.get_position(timeout=1)\n",
    "print(position1)\n",
    "ESP32.rotator.move_x(steps=10000, speed=10000, is_blocking=True)\n",
    "ESP32.rotator.move_y(steps=1000, speed=1000, is_blocking=True)\n",
    "ESP32.rotator.move_z(steps=1000, speed=1000, is_blocking=True)\n",
    "ESP32.rotator.move_t(steps=1000, speed=1000)\n",
    "ESP32.rotator.move_xyzt(steps=(0,10000,10000,0), speed=10000, is_blocking=True)\n",
    "ESP32.rotator.move_xyzt(steps=(0,0,0,0), speed=10000, is_absolute=True, is_blocking=True)\n",
    "ESP32.rotator.move_forever(speed=(0,100,0,0), is_stop=False)\n",
    "time.sleep(1)\n",
    "ESP32.motor.move_forever(speed=(0,0,0,0), is_stop=True)\n",
    "\n",
    "position2 = ESP32.motor.get_position(timeout=1)\n",
    "print(position2)"
   ]
  },
  {
   "cell_type": "markdown",
   "id": "ff359b22",
   "metadata": {},
   "source": [
    "## Moving the motors\n",
    "\n",
    "With the below code, we can test the motors spinning or not"
   ]
  },
  {
   "cell_type": "code",
   "execution_count": null,
   "id": "e2f97425",
   "metadata": {},
   "outputs": [],
   "source": [
    "position1 = ESP32.motor.get_position(timeout=1)\n",
    "print(position1)\n",
    "ESP32.motor.move_x(steps=10000, speed=10000, is_blocking=True)\n",
    "ESP32.motor.move_y(steps=1000, speed=1000, is_blocking=True)\n",
    "ESP32.motor.move_z(steps=1000, speed=1000, is_blocking=True)\n",
    "ESP32.motor.move_t(steps=1000, speed=1000)\n",
    "ESP32.motor.move_xyzt(steps=(0,10000,10000,0), speed=10000, is_blocking=True)\n",
    "ESP32.motor.move_xyzt(steps=(0,0,0,0), speed=10000, is_absolute=True, is_blocking=True)\n",
    "ESP32.motor.move_forever(speed=(0,100,0,0), is_stop=False)\n",
    "time.sleep(1)\n",
    "ESP32.motor.move_forever(speed=(0,0,0,0), is_stop=True)\n",
    "\n",
    "position2 = ESP32.motor.get_position(timeout=1)\n",
    "print(position2)"
   ]
  },
  {
   "attachments": {},
   "cell_type": "markdown",
   "id": "a959182c",
   "metadata": {},
   "source": [
    "# Homing the motors\n",
    "\n",
    "The board has the ability to connect end stops to detect that a linear stage has hit a default/home position. Below you can find the parameters to control this function. "
   ]
  },
  {
   "cell_type": "code",
   "execution_count": null,
   "id": "a1d74a38",
   "metadata": {},
   "outputs": [],
   "source": [
    "ESP32.Home.home_x(speed =15000, direction = -1, endposrelease = 3000, timeout=20000)"
   ]
  },
  {
   "cell_type": "markdown",
   "id": "0d9149e2",
   "metadata": {},
   "source": [
    "# Drive the motor in a scanning grid"
   ]
  },
  {
   "cell_type": "code",
   "execution_count": null,
   "id": "0f076f49",
   "metadata": {},
   "outputs": [],
   "source": [
    "dDist = 1000\n",
    "speed = 20000\n",
    "nDist = 4\n",
    "\n",
    "# test Motor in scanning mode\n",
    "ESP32.motor.move_xyzt(steps=(0,0,0,0), speed=speed, is_absolute = True, is_blocking=True)\n",
    "\n",
    "for ix in range(nDist):\n",
    "    for iy in range(nDist):\n",
    "        if ix%2==0:\n",
    "            iy=nDist-iy\n",
    "        ESP32.motor.move_xyzt(steps=(0,ix*dDist,iy*dDist,0), speed=speed, is_absolute = True, is_blocking=True)\n",
    "ESP32.motor.move_xyzt(steps=(0,nDist*dDist,nDist*dDist,0), speed=speed, is_absolute = True, is_blocking=True)\n",
    "ESP32.motor.move_xyzt(steps=(0,0,0,0), speed=speed, is_absolute = True, is_blocking=True)\n"
   ]
  },
  {
   "cell_type": "markdown",
   "id": "ced099d5",
   "metadata": {},
   "source": [
    "# ESP32 State"
   ]
  },
  {
   "cell_type": "code",
   "execution_count": null,
   "id": "e6db2308",
   "metadata": {},
   "outputs": [],
   "source": [
    "# test state\n",
    "_state = ESP32.state.get_state()\n",
    "print(_state)\n",
    "ESP32.state.set_state(debug=False)\n",
    "_mode = ESP32.state.isControllerMode()\n",
    "print(_mode)\n",
    "ESP32.state.espRestart() # restarts the microcontroller\n",
    "time.sleep(5)\n",
    "ESP32.state.setControllerMode(isController=True)\n",
    "_busy = ESP32.state.isBusy()\n",
    "print(_busy)\n",
    "_state = ESP32.state.get_state()\n",
    "print(_state)\n",
    "_state = ESP32.state.get_state()\n",
    "print(_state)\n"
   ]
  },
  {
   "cell_type": "markdown",
   "id": "0d72ffa0",
   "metadata": {},
   "source": [
    "# LED Matrix\n",
    "\n",
    "If the LED matrix is connected to pin 4 and has 16 individual WS2810 LEds, you can set it up like so"
   ]
  },
  {
   "cell_type": "code",
   "execution_count": null,
   "id": "7ecd5211",
   "metadata": {},
   "outputs": [],
   "source": [
    "# test LED\n",
    "print(\"The LED pin is: \"+str(ESP32.led.get_ledpin()))\n",
    "time.sleep(2)\n",
    "ESP32.led.send_LEDMatrix_full(intensity=(255, 255, 255))\n",
    "time.sleep(0.5)\n",
    "ESP32.led.send_LEDMatrix_full(intensity=(0, 0, 0))"
   ]
  },
  {
   "cell_type": "code",
   "execution_count": null,
   "id": "6970eaea",
   "metadata": {},
   "outputs": [],
   "source": [
    "# display random pattern\n",
    "for i in range(100):\n",
    "    led_pattern = np.random.randint(0,55, (25,3))\n",
    "    ESP32.led.send_LEDMatrix_array(led_pattern=led_pattern,timeout=1)\n",
    "\n",
    "ESP32.led.send_LEDMatrix_single(indexled=0, intensity=(0, 255, 0))"
   ]
  },
  {
   "cell_type": "code",
   "execution_count": null,
   "id": "cbd7c0b5",
   "metadata": {},
   "outputs": [],
   "source": [
    "# display random pattern\n",
    "while(1):\n",
    "    for iLED in range(25):\n",
    "        ESP32.led.send_LEDMatrix_full(intensity=(0, 0, 0))\n",
    "        ESP32.led.send_LEDMatrix_single(indexled=iLED, intensity=(255, 255, 255))\n",
    "        \n",
    "        "
   ]
  },
  {
   "cell_type": "code",
   "execution_count": null,
   "id": "5f0e5c88",
   "metadata": {},
   "outputs": [],
   "source": [
    "#%% left half / right half\n",
    "led_pattern = np.zeros((25,3))\n",
    "list_left = (0,1,2,3,4,5,9,10,11,12,13,14,15,16,17)\n",
    "list_right = (0,5,6,7,8,9,18,19,20,21,22,23,24)\n",
    "led_pattern[list_left,0] = 255\n",
    "led_pattern[list_right,1] = 255\n",
    "ESP32.led.send_LEDMatrix_array(led_pattern=led_pattern, timeout=1)\n",
    "time.sleep(1)\n",
    "ESP32.led.send_LEDMatrix_array(led_pattern=led_pattern*0, timeout=1)\n"
   ]
  },
  {
   "cell_type": "code",
   "execution_count": null,
   "id": "7238a128",
   "metadata": {},
   "outputs": [],
   "source": [
    "imov\n"
   ]
  },
  {
   "cell_type": "markdown",
   "id": "a0ad184a",
   "metadata": {},
   "source": [
    "# Wifi\n",
    "This feature will be implemented soon. It will help you to connect to a common Wifi hotspot or create an access point "
   ]
  },
  {
   "cell_type": "code",
   "execution_count": null,
   "id": "d79b1629",
   "metadata": {},
   "outputs": [],
   "source": [
    "ESP32.wifi.scanWifi()"
   ]
  },
  {
   "cell_type": "markdown",
   "id": "c9af0617",
   "metadata": {},
   "source": [
    "# Lasers\n",
    "\n",
    "Lasers are essentially PWM pins and can tune a voltage signal between 0..3.3V in case of the ESP32\n",
    "You can also hook up LEDs "
   ]
  },
  {
   "cell_type": "code",
   "execution_count": null,
   "id": "5727098a",
   "metadata": {},
   "outputs": [],
   "source": [
    "# set laser pins \n",
    "if(0):\n",
    "    ESP32.laser.set_laserpin(laserid=1, laserpin=15)\n",
    "    ESP32.laser.set_laserpin(laserid=2, laserpin=16)\n",
    "    ESP32.laser.set_laserpin(laserid=3, laserpin=17)\n",
    "\n",
    "# get laser pins\n",
    "print(ESP32.laser.get_laserpins())\n",
    "print(ESP32.laser.get_laserpin(laserid=1))"
   ]
  },
  {
   "cell_type": "code",
   "execution_count": null,
   "id": "f4b70f21",
   "metadata": {},
   "outputs": [],
   "source": [
    "# set laser values\n",
    "ESP32.laser.set_laser(channel=1, value=1000, despeckleAmplitude=0, despecklePeriod=10, timeout=20, is_blocking = True)\n",
    "ESP32.laser.set_laser(channel=2, value=1000, despeckleAmplitude=0, despecklePeriod=10, timeout=20, is_blocking = True)\n",
    "ESP32.laser.set_laser(channel=3, value=1000, despeckleAmplitude=0, despecklePeriod=10, timeout=20, is_blocking = True)\n"
   ]
  },
  {
   "cell_type": "code",
   "execution_count": null,
   "id": "591d682f",
   "metadata": {},
   "outputs": [],
   "source": []
  }
 ],
 "metadata": {
  "kernelspec": {
   "display_name": "imswitch",
   "language": "python",
   "name": "python3"
  },
  "language_info": {
   "codemirror_mode": {
    "name": "ipython",
    "version": 3
   },
   "file_extension": ".py",
   "mimetype": "text/x-python",
   "name": "python",
   "nbconvert_exporter": "python",
   "pygments_lexer": "ipython3",
   "version": "3.9.15"
  },
  "vscode": {
   "interpreter": {
    "hash": "93d07735e6e376a22bc18f9c640840941f11d272ea8de1696e87bfb013af0b9b"
   }
  }
 },
 "nbformat": 4,
 "nbformat_minor": 5
}
